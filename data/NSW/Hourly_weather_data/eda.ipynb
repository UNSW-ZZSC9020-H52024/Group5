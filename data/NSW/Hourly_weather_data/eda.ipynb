{
 "cells": [
  {
   "cell_type": "code",
   "execution_count": 1,
   "metadata": {},
   "outputs": [],
   "source": [
    "#import all data science eda libraries\n",
    "\n",
    "import pandas as pd\n",
    "import warnings\n",
    "warnings.filterwarnings('ignore')\n"
   ]
  },
  {
   "cell_type": "code",
   "execution_count": 4,
   "metadata": {},
   "outputs": [
    {
     "data": {
      "text/html": [
       "<div>\n",
       "<style scoped>\n",
       "    .dataframe tbody tr th:only-of-type {\n",
       "        vertical-align: middle;\n",
       "    }\n",
       "\n",
       "    .dataframe tbody tr th {\n",
       "        vertical-align: top;\n",
       "    }\n",
       "\n",
       "    .dataframe thead th {\n",
       "        text-align: right;\n",
       "    }\n",
       "</style>\n",
       "<table border=\"1\" class=\"dataframe\">\n",
       "  <thead>\n",
       "    <tr style=\"text-align: right;\">\n",
       "      <th></th>\n",
       "      <th>Date</th>\n",
       "      <th>Time</th>\n",
       "      <th>CHULLORA WDR 1h average [°]</th>\n",
       "      <th>CHULLORA WSP 1h average [m/s]</th>\n",
       "      <th>CHULLORA HUMID 1h average [%]</th>\n",
       "      <th>CHULLORA SOLAR 1h average [W/m²]</th>\n",
       "    </tr>\n",
       "  </thead>\n",
       "  <tbody>\n",
       "    <tr>\n",
       "      <th>0</th>\n",
       "      <td>30/12/2009</td>\n",
       "      <td>01:00</td>\n",
       "      <td>245.8</td>\n",
       "      <td>2.7</td>\n",
       "      <td>83.5</td>\n",
       "      <td>-2.0</td>\n",
       "    </tr>\n",
       "    <tr>\n",
       "      <th>1</th>\n",
       "      <td>30/12/2009</td>\n",
       "      <td>02:00</td>\n",
       "      <td>219.5</td>\n",
       "      <td>1.9</td>\n",
       "      <td>85.0</td>\n",
       "      <td>-2.2</td>\n",
       "    </tr>\n",
       "    <tr>\n",
       "      <th>2</th>\n",
       "      <td>30/12/2009</td>\n",
       "      <td>03:00</td>\n",
       "      <td>247.7</td>\n",
       "      <td>2.7</td>\n",
       "      <td>87.2</td>\n",
       "      <td>-2.4</td>\n",
       "    </tr>\n",
       "    <tr>\n",
       "      <th>3</th>\n",
       "      <td>30/12/2009</td>\n",
       "      <td>04:00</td>\n",
       "      <td>242.9</td>\n",
       "      <td>1.8</td>\n",
       "      <td>86.8</td>\n",
       "      <td>-1.4</td>\n",
       "    </tr>\n",
       "    <tr>\n",
       "      <th>4</th>\n",
       "      <td>30/12/2009</td>\n",
       "      <td>05:00</td>\n",
       "      <td>236.8</td>\n",
       "      <td>1.9</td>\n",
       "      <td>86.2</td>\n",
       "      <td>0.1</td>\n",
       "    </tr>\n",
       "  </tbody>\n",
       "</table>\n",
       "</div>"
      ],
      "text/plain": [
       "         Date   Time  CHULLORA WDR 1h average [°]  \\\n",
       "0  30/12/2009  01:00                        245.8   \n",
       "1  30/12/2009  02:00                        219.5   \n",
       "2  30/12/2009  03:00                        247.7   \n",
       "3  30/12/2009  04:00                        242.9   \n",
       "4  30/12/2009  05:00                        236.8   \n",
       "\n",
       "   CHULLORA WSP 1h average [m/s]  CHULLORA HUMID 1h average [%]  \\\n",
       "0                            2.7                           83.5   \n",
       "1                            1.9                           85.0   \n",
       "2                            2.7                           87.2   \n",
       "3                            1.8                           86.8   \n",
       "4                            1.9                           86.2   \n",
       "\n",
       "   CHULLORA SOLAR 1h average [W/m²]  \n",
       "0                              -2.0  \n",
       "1                              -2.2  \n",
       "2                              -2.4  \n",
       "3                              -1.4  \n",
       "4                               0.1  "
      ]
     },
     "execution_count": 4,
     "metadata": {},
     "output_type": "execute_result"
    }
   ],
   "source": [
    "#performing data cleaning and data preprocessing on /Users/tom/Documents/Data Science Course/2024H5-DSProject/data/NSW/Hourly_weather_data/combined.csv\n",
    "\n",
    "#read the csv file\n",
    "df = pd.read_csv('/Users/tom/Documents/Data Science Course/2024H5-DSProject/data/NSW/Hourly_weather_data/combined.csv')\n",
    "\n",
    "#display the first 5 rows of the dataframe\n",
    "df.head()\n",
    "\n",
    "#display the last 5 rows of the dataframe\n",
    "#df.tail()\n"
   ]
  },
  {
   "cell_type": "code",
   "execution_count": 5,
   "metadata": {},
   "outputs": [
    {
     "data": {
      "text/plain": [
       "Date                                   0\n",
       "Time                                   0\n",
       "CHULLORA WDR 1h average [°]          920\n",
       "CHULLORA WSP 1h average [m/s]        921\n",
       "CHULLORA HUMID 1h average [%]        644\n",
       "CHULLORA SOLAR 1h average [W/m²]    1352\n",
       "dtype: int64"
      ]
     },
     "execution_count": 5,
     "metadata": {},
     "output_type": "execute_result"
    }
   ],
   "source": [
    "#search for missing values in the dataframe\n",
    "df.isnull().sum()"
   ]
  },
  {
   "cell_type": "code",
   "execution_count": 7,
   "metadata": {},
   "outputs": [
    {
     "data": {
      "text/plain": [
       "(98448, 6)"
      ]
     },
     "execution_count": 7,
     "metadata": {},
     "output_type": "execute_result"
    }
   ],
   "source": [
    "df.shape"
   ]
  },
  {
   "cell_type": "code",
   "execution_count": 20,
   "metadata": {},
   "outputs": [
    {
     "data": {
      "text/html": [
       "<div>\n",
       "<style scoped>\n",
       "    .dataframe tbody tr th:only-of-type {\n",
       "        vertical-align: middle;\n",
       "    }\n",
       "\n",
       "    .dataframe tbody tr th {\n",
       "        vertical-align: top;\n",
       "    }\n",
       "\n",
       "    .dataframe thead th {\n",
       "        text-align: right;\n",
       "    }\n",
       "</style>\n",
       "<table border=\"1\" class=\"dataframe\">\n",
       "  <thead>\n",
       "    <tr style=\"text-align: right;\">\n",
       "      <th></th>\n",
       "      <th>CHULLORA WDR 1h average [°]</th>\n",
       "      <th>CHULLORA WSP 1h average [m/s]</th>\n",
       "      <th>CHULLORA HUMID 1h average [%]</th>\n",
       "      <th>CHULLORA SOLAR 1h average [W/m²]</th>\n",
       "      <th>date_time</th>\n",
       "    </tr>\n",
       "  </thead>\n",
       "  <tbody>\n",
       "    <tr>\n",
       "      <th>0</th>\n",
       "      <td>245.8</td>\n",
       "      <td>2.7</td>\n",
       "      <td>83.5</td>\n",
       "      <td>-2.0</td>\n",
       "      <td>2009-12-30 01:00:00</td>\n",
       "    </tr>\n",
       "    <tr>\n",
       "      <th>1</th>\n",
       "      <td>219.5</td>\n",
       "      <td>1.9</td>\n",
       "      <td>85.0</td>\n",
       "      <td>-2.2</td>\n",
       "      <td>2009-12-30 02:00:00</td>\n",
       "    </tr>\n",
       "    <tr>\n",
       "      <th>2</th>\n",
       "      <td>247.7</td>\n",
       "      <td>2.7</td>\n",
       "      <td>87.2</td>\n",
       "      <td>-2.4</td>\n",
       "      <td>2009-12-30 03:00:00</td>\n",
       "    </tr>\n",
       "    <tr>\n",
       "      <th>3</th>\n",
       "      <td>242.9</td>\n",
       "      <td>1.8</td>\n",
       "      <td>86.8</td>\n",
       "      <td>-1.4</td>\n",
       "      <td>2009-12-30 04:00:00</td>\n",
       "    </tr>\n",
       "    <tr>\n",
       "      <th>4</th>\n",
       "      <td>236.8</td>\n",
       "      <td>1.9</td>\n",
       "      <td>86.2</td>\n",
       "      <td>0.1</td>\n",
       "      <td>2009-12-30 05:00:00</td>\n",
       "    </tr>\n",
       "  </tbody>\n",
       "</table>\n",
       "</div>"
      ],
      "text/plain": [
       "   CHULLORA WDR 1h average [°]  CHULLORA WSP 1h average [m/s]  \\\n",
       "0                        245.8                            2.7   \n",
       "1                        219.5                            1.9   \n",
       "2                        247.7                            2.7   \n",
       "3                        242.9                            1.8   \n",
       "4                        236.8                            1.9   \n",
       "\n",
       "   CHULLORA HUMID 1h average [%]  CHULLORA SOLAR 1h average [W/m²]  \\\n",
       "0                           83.5                              -2.0   \n",
       "1                           85.0                              -2.2   \n",
       "2                           87.2                              -2.4   \n",
       "3                           86.8                              -1.4   \n",
       "4                           86.2                               0.1   \n",
       "\n",
       "            date_time  \n",
       "0 2009-12-30 01:00:00  \n",
       "1 2009-12-30 02:00:00  \n",
       "2 2009-12-30 03:00:00  \n",
       "3 2009-12-30 04:00:00  \n",
       "4 2009-12-30 05:00:00  "
      ]
     },
     "execution_count": 20,
     "metadata": {},
     "output_type": "execute_result"
    }
   ],
   "source": [
    "#change all values in the Time column with value '24:00' to '00:00' and the Date column to the next day for those rows\n",
    "df['Time'] = df['Time'].replace('24:00', '00:00')\n",
    "\n",
    "#combine the date and time columns into a single column and convert it to datetime format\n",
    "df['date_time'] = pd.to_datetime(df['Date'] + ' ' + df['Time'])\n",
    "\n",
    "#for all date_time values that are 00:00, add 1 day to the date\n",
    "df.loc[df['Time'] == '00:00', 'date_time'] = df['date_time'] + pd.DateOffset(days=1)\n",
    "\n",
    "#drop the date and time columns\n",
    "df = df.drop(['Date', 'Time'], axis=1)\n",
    "\n",
    "#display the first 5 rows of the dataframe\n",
    "df.head()"
   ]
  },
  {
   "cell_type": "code",
   "execution_count": 21,
   "metadata": {},
   "outputs": [],
   "source": [
    "#drop the missing values\n",
    "df = df.dropna()\n",
    "df.shape\n",
    "\n",
    "#save the cleaned data to a new csv file\n",
    "df.to_csv('/Users/tom/Documents/Data Science Course/2024H5-DSProject/data/NSW/Hourly_weather_data/cleaned.csv', index=False)"
   ]
  }
 ],
 "metadata": {
  "kernelspec": {
   "display_name": "base",
   "language": "python",
   "name": "python3"
  },
  "language_info": {
   "codemirror_mode": {
    "name": "ipython",
    "version": 3
   },
   "file_extension": ".py",
   "mimetype": "text/x-python",
   "name": "python",
   "nbconvert_exporter": "python",
   "pygments_lexer": "ipython3",
   "version": "3.9.13"
  }
 },
 "nbformat": 4,
 "nbformat_minor": 2
}
