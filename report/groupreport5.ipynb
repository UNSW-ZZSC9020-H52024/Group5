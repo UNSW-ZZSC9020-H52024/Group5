{
 "cells": [
  {
   "cell_type": "markdown",
   "metadata": {},
   "source": [
    "<div align=\"center\"> <unsw-logo.png> </div>\n",
    "<h1 style=\"text-align:center;\"> A Data Science Approach to Forecast Electricity Consumption in Australia Incorporating ENSO Data</h1>\n",
    "\n",
    "**Team:** 5\n",
    "\n",
    "**Session:** Hexamester 5, 2024\n",
    "\n",
    "**Course Code:** ZZSC9020\n",
    "\n",
    "**Author(s):**\n",
    "- Eugene Ho (z5497345) Data and Technical Specialist\n",
    "- Majuwana Kariyawasam (z5398970) Data Specialist and AI Engineer\n",
    "- Tariq Khan (z5414837) Data Specialist and ML Engineer\n",
    "- Tom Woodley (z5450185) Group Leader\n",
    "\n",
    "**Date:** 05/10/2024\n",
    "\n",
    "**Acknowledgements:**\n",
    "- By far the greatest thanks must go to my supervisor for the guidance, care and support they provided.\n",
    "- Thanks to Emily, Michelle, John and Alex for proofreading the document in the final stages of preparation.\n",
    "- Thanks to Robert Taggart for allowing his thesis style to be copied.\n"
   ]
  },
  {
   "cell_type": "markdown",
   "metadata": {},
   "source": [
    "# Abstract\n",
    "The image below gives you some hint about how to write a good abstract.\n",
    "![Good Abstract](good-abstract.png)"
   ]
  },
  {
   "cell_type": "markdown",
   "metadata": {},
   "source": [
    "# Introduction\n",
    "\n",
    "Forecasting energy demand in the Australian market is crucial to maintaining a balanced and reliable electricity supply. With fluctuations in weather conditions and seasonal patterns, it is essential for energy producers and operators to predict demand accurately, allowing them to adjust outputs and bidding strategies effectively. The Australian Energy Market Operator (AEMO) plays a central role in producing forecasts over a variety of timescales, which help energy producers, grid operators, and businesses manage their operations to prevent both shortages and surpluses (Australian Energy Market Operator, 2022). These forecasts form the backbone of energy supply planning, and their accuracy directly impacts grid stability, pricing, and operational efficiency.\n",
    "\n",
    "In Australia, weather conditions are a primary factor influencing energy demand. Temperature variations, in particular, are significant drivers. For example, during periods of extreme heat, there is a marked increase in electricity consumption due to higher usage of cooling systems such as air conditioners. Conversely, colder spells can lead to a surge in heating demand which affects electricity consumption. Anticipating demand on the monthly, and longer timescales is important for legacy (fossil fuel) producers of electricity as their agility to react to changes in demand is determined by usage in the order of the hourly scale and also by securing adequate fuel to produce the energy. \n",
    "\n",
    "AEMO closely monitors energy demand in response to unexpected events—referred to as \"Shock Events\"—which could be caused by sudden weather changes or infrastructure failures, further complicating the demand landscape (Australian Energy Market Operator, 2022). These shock events are commonly associated with extreme weather events on the climactic scale. One macro-driver of weather in the Pacific Ocean is the El Niño-Southern Oscillation (ENSO). ENSO is a climate phenomenon that affects weather patterns across Australia, with its two main phases—El Niño and La Niña—having a significant influence on rainfall, temperature, and extreme weather events. El Niño is typically associated with hotter and drier conditions in eastern Australia, while La Niña brings cooler, wetter conditions. These variations in climate have a direct effect on energy demand, especially in highly populated states like New South Wales (NSW), where electricity consumption is sensitive to seasonal weather fluctuations. As climate science advances, it is becoming increasingly possible to incorporate ENSO data into energy forecasting models. Given ENSO’s role in driving large-scale weather changes, its inclusion in energy demand models is justified, particularly in regions like NSW, where climate variability can have profound effects on electricity consumption.\n",
    "\n",
    "This project investigates whether the integration of ENSO phases into weather and population data and then modeled using common meachine learning libraries can produce models that are competetive with AEMO's own projections. This focus is particularly relevant for legacy energy producers, who need to plan ahead for fuel procurement and production ramp-ups, as they cannot adjust output as quickly as renewable energy sources such as solar or wind. ENSO phases provide a valuable indicator of seasonal climate trends and their inclusion could improve the ability of models to predict medium-term energy demand. In this project, the forecasting time scale is set to monthly intervals, as this aligns with the operational requirements of legacy energy producers while the granularity of the data remains at an hourly level to capture variations in demand at the dispatch cycle level (each dispatch cycle is half-hourly so mean values are used to give hourly results).\n",
    "\n",
    "Off-the-shelf machine learning models such as Linear Models (LMs), Extreme Gradient Boosting (XGBoost), Random Forest Regressors and Multilayer Perceptrons (MLPs) are used to assess whether the inclusion of ENSO phases enhances the predictive power of weather-based models when compared against the provided AEMO predictions. These machine learning models have proven effective in handling large and complex datasets, identifying patterns in data and capturing non-linear relationships, all of which are critical when forecasting energy demand in a highly dynamic environment like an electricity market operating on robust infrastructure. Linear Models, while not as accurate as more sophisticated machine learning models are commonly used for predictions as their simplicity and easy interpretabiliy is useful when engaging non-technical stakeholders. However, as the complexity of weather data and demand patterns increase, more advanced techniques such as XGBoost and Random Forest become essential due to their ability to capture intricate relationships between weather variables and demand and not be limited by the assumptions of linearity and independence. \n",
    "\n",
    "Incorporating ENSO phases as an additional predictor in these models represents a potential step forward in improving the accuracy of medium-term forecasts. The unique advantage of including ENSO lies in its ability to provide a longer-term view of climate patterns and the recent advent of reliable ENSO forecasting resulting in ENSO being useful as an explanatory variable in predictions. ENSO offers a broad seasonal perspective on climate which in turn allows for models that predict energy demand through secondary effects like temperature, wind and rainfall to improve accuracy. As an example: during an El Niño phase, energy producers in New South Wales might anticipate higher-than-average electricity demand due to prolonged periods of heat. ENSO also operates in a neutral phase or La Niña phase which drives lower temperatures and wetter conditions.\n",
    "\n",
    "The choice of NSW as the focus for this study is strategic as it is on the Pacific coast meaning the assumption of it being affected by ENSO is most likely to be valid and that New South Wales is also home to one half of the total population of Australia. New South Wales therefore, represents a substantial portion of Australia's energy consumption, making it an ideal case study for examining the impact of ENSO on electricity demand.\n",
    "\n",
    "Ultimately, this report aims to evaluate the effectiveness of incorporating a significant climate driver into a weather and population based energy demand model to determine whether or not it can improve the accuracy of monthly forecasts. The results will be evaluated agains the AEMO forecasts to determine if the models are competitive with the industry standard. The AEMO forecasts are likewise evaluated but calculating the root mean square error between its predictions and the actual demand over the period investigated.\n",
    "\n",
    "\n",
    "-- need to add references for the unsubstantiated claims in the introduction"
   ]
  },
  {
   "cell_type": "markdown",
   "metadata": {},
   "source": [
    "# Literature Review\n",
    "In recent years, numerous studies have explored the relationship between weather conditions and energy demand. For instance, studies have shown that temperature is a key driver of energy consumption, particularly in regions with extreme climates like NSW. Research has also highlighted the importance of accounting for seasonal variations and extraordinary events in demand forecasting models.\n",
    "\n",
    "Many models rely on general linear models (GLMs) (Fan, MacGill and Sproul, 2017; Leung, 2022; Porteiro, Hernández-Callejo and Nesmachnow, 2022) which, while accurate, often struggle with higher-level interactions and non-linear effects. These are useful because of their simplicity and ease of communication to non-technical stakeholders. They are additionally, not time or resource-intensive and can be trained and deployed easily (Nooruldeen et al., 2023). Many such models, of which ARIMA (Fattah et al., 2018) and its derivatives: ARIMAX and SARIMA are some of the most widely used because they have the advantage over other linear models of being able to deal with seasonal effects. Unfortunately, the timescales over which these types of seasonal fluctuations act (daily and yearly) are not relevant to this investigation where there is a focus on monthly forecasts.\n",
    "Machine learning models like Random Forest (Bedi and Toshniwal, 2019; Vijendar Reddy et al., 2023) which is an ensemble method address non-linearities and seasonal influences effectively. More complex models such as Convolutional Neural Networks (Koprinska, Wu and Wang, 2018) and XGBoost (Vijendar Reddy et al., 2023) have also been successful, handling seasonality, trends, and non-linearities well. However, none of these studies integrate macro-seasonal factors like ENSO, presenting a gap in current models.\n",
    "The state-of-the-art is to use a hybrid model approach which blends two models or uses the output of one to feed into the other to produce accurate forecasts (Fan and Hyndman, 2010; Vu, Muttaqi and Agalgaonkar, 2015; Chreng, Lee and Tuy, 2022). This approach is \n",
    "This work expands on previous research by incorporating ENSO projections and population growth into models. Linear models and advanced machine learning techniques will be used to address this knowledge gap.\n",
    "\n",
    "\n",
    "\n",
    "--need 800 words here"
   ]
  },
  {
   "cell_type": "markdown",
   "metadata": {},
   "source": [
    "# Material and Methods\n",
    "## Software\n",
    "\n",
    "The core platform of this project was Python. Python libraries for machine learning are intuitive and user-friendly which allows for easy collaboration. Typesetting and presentation in Jupyter Notebooks were equally user-friendly and can be used to present final results to stakeholders as well as construct code that can be communicated between team members. The following libraries were used in this project:\n",
    "- Pandas: Data manipulation and analysis\n",
    "- NumPy: Mathematical functions\n",
    "- Scikit-learn: Machine learning library\n",
    "- XGBoost: Gradient boosting library\n",
    "- Random Forest: Ensemble learning library\n",
    "- PyTorch: Machine learning library\n",
    "- Matplotlib: Data visualization\n",
    "- Seaborn: Data visualization\n",
    "- OTHERS...\n",
    "\n",
    "Each of the above listed libraries' use were justified in the literature review where necessary.\n",
    "\n",
    "For the non-technical side of the project:\n",
    "- Discord was used for instant messaging due to its easy integration with mobile and computing platforms.\n",
    "- Microsoft Teams was used for video conferencing and file sharing as well as meeting with supervisors.\n",
    "- Github was used for version control and collaboration on code.\n",
    "- Microsoft Planner was used for task management and tracking.\n",
    "- Microoft PowerPoint and OBS Studio were used for the final presentation and for recording the presentation.\n",
    "\n",
    "-- should I add more here?"
   ]
  },
  {
   "cell_type": "markdown",
   "metadata": {},
   "source": [
    "## Description of the Data\n",
    "How are the data stored? What are the sizes of the data files? How many files?\n",
    "\n",
    "Historical electricity usage data of different regions were provided by course staff. The data was processed and validated against the corresponding data collected from BoM for the same period in the Sydney South-West region. Where the data was collected in text or Excel formats, they were converted to CSV and stored on the Gihub repository. The data was cleaned and preprocessed before being used in the models. The final dataset contains only columns used for the machine learning models. It will be presented in the Exploratory Data Analysis section that different metrics for measuring the ENSO cycle were considered. Ultimately, the raw surface temperature and dea pressure differential data produced the best results.\n",
    "\n",
    "Once the provided weather data was validated for consistency with the historical weather data that includes temperature, precipitation and humidity from BoM, superfluous data were dropped \n",
    "\n",
    "The data validation process mentioned in the above paragraph consisted of overlaying the provided temperature data with the collected data. Not only were the data observed to fall within the same range over the investigated domain but also trends and patterns were observed to be consistent. To quantify this, the root mean square error (RMSE) between the two datasets was calculated and found to be small (quantity).\n",
    "\n",
    "Population growth data from New South Wales (produced by the Australian Buraeu of Statistics) was also collected and used in the models. Additionally, population forecasts until 2070 were obtained from the Australian Bureau of Statistics (ABS) and used to forecast energy demand in the future.\n",
    "\n",
    "ENSO cycle data: Southern Oscillation Index (SOI) and Sea Surface Temperature (SST) were sourced from BoM. BoM also publishes their own ENSO classifications and both SOI and SST were processed to produce ENSO classifications. The ENSO classifications were used in untuned models to determine their impact on model performance. It was determined (as is presented in the Exploratory Data Analysis) that the raw SOI and SST data produced the best results.\n",
    "\n",
    "All data can be found in the Github repository under the data folder."
   ]
  },
  {
   "cell_type": "markdown",
   "metadata": {},
   "source": [
    "## Data Cleaning\n",
    "How did you deal with missing data?\n",
    "\n",
    "-- extrapolate to 200 words"
   ]
  },
  {
   "cell_type": "markdown",
   "metadata": {},
   "source": [
    "## Exploratory Data Analysis\n",
    "Here we explore the data using histograms, scatter plots, and numerical summaries."
   ]
  },
  {
   "cell_type": "code",
   "execution_count": 5,
   "id": "110558cb",
   "metadata": {
    "trusted": true
   },
   "outputs": [
    {
     "name": "stdout",
     "output_type": "stream",
     "text": [
      "Note: you may need to restart the kernel to use updated packages.\n"
     ]
    }
   ],
   "source": [
    "#setting up the environment\n",
    "\n",
    "#install the required packages if they are not already installed\n",
    "%pip install pandas matplotlib numpy scikit-learn seaborn statsmodels > dev null"
   ]
  },
  {
   "cell_type": "code",
   "execution_count": 1,
   "metadata": {},
   "outputs": [
    {
     "data": {
      "image/png": "[encoded data removed]",
      "text/plain": [
       "<Figure size 640x480 with 1 Axes>"
      ]
     },
     "metadata": {},
     "output_type": "display_data"
    }
   ],
   "source": [
    "# Example in Python\n",
    "import numpy as np\n",
    "import matplotlib.pyplot as plt\n",
    "\n",
    "# Generating some random data\n",
    "np.random.seed(1)\n",
    "data = np.random.normal(0.0, 1.0, size=100)\n",
    "\n",
    "# Plotting a histogram\n",
    "plt.hist(data, bins=10)\n",
    "plt.title('Histogram of Random Data')\n",
    "plt.show()"
   ]
  },
  {
   "cell_type": "markdown",
   "metadata": {},
   "source": [
    "# Analysis and Results\n",
    "### A First Model\n",
    "Linear regression model: \n",
    "$$ Y_i = \\beta_0 + \\beta_1 x_{1i} + \\cdots + \\beta_p x_{pi} + \\epsilon_i $$"
   ]
  },
  {
   "cell_type": "markdown",
   "metadata": {},
   "source": [
    "# Discussion\n",
    "Put the results in perspective with respect to the problem studied."
   ]
  },
  {
   "cell_type": "markdown",
   "id": "20d35ff6",
   "metadata": {},
   "source": [
    "## Machine Learning Models"
   ]
  },
  {
   "cell_type": "markdown",
   "metadata": {},
   "source": [
    "# Conclusion and Further Issues\n",
    "What are the main conclusions? What recommendations can you make? What further analysis could be done?"
   ]
  },
  {
   "cell_type": "markdown",
   "metadata": {},
   "source": [
    "![University Logo](unsw-logo.png)"
   ]
  },
  {
   "cell_type": "markdown",
   "metadata": {},
   "source": [
    "# References\n",
    "\n",
    "Australian Energy Market Operator (2022) Forecasting Approach-Electricity Demand Forecasting Methodology.\n",
    "Bedi, J. and Toshniwal, D. (2019) ‘Deep learning framework to forecast electricity demand’, Applied Energy, 238, pp. 1312–1326. Available at: https://doi.org/10.1016/j.apenergy.2019.01.113.\n",
    "\n",
    "Chreng, K., Lee, H.S. and Tuy, S. (2022) ‘A Hybrid Model for Electricity Demand Forecast Using Improved Ensemble Empirical Mode Decomposition and Recurrent Neural Networks with ERA5 Climate Variables’, Energies, 15(19). Available at: https://doi.org/10.3390/en15197434.\n",
    "\n",
    "Fan, H., MacGill, I.F. and Sproul, A.B. (2017) ‘Statistical analysis of drivers of residential peak electricity demand’, Energy and Buildings, 141, pp. 205–217. Available at: https://doi.org/10.1016/j.enbuild.2017.02.030.\n",
    "\n",
    "Fan, S. and Hyndman, R.J. (2010) ‘Short-term load forecasting based on a semi-parametric additive model’, IEEE Transactions on Power Systems. Melbourne. Available at: chrome-extension://efaidnbmnnnibpcajpcglclefindmkaj/https://robjhyndman.com/papers/2010STLF-FinalR1.pdf (Accessed: 17 September 2024).\n",
    "\n",
    "Fattah, J. et al. (2018) ‘Forecasting of demand using ARIMA model’, International Journal of Engineering Business Management, 10. Available at: https://doi.org/10.1177/1847979018808673.\n",
    "\n",
    "Koprinska, I., Wu, D. and Wang, Z. (2018) ‘Convolutional Neural Networks for Energy Time Series Forecasting’, in 2018 International Joint Conference on Neural Networks (IJCNN). IEEE, pp. 1–8. Available at: https://doi.org/10.1109/IJCNN.2018.8489399.\n",
    "\n",
    "Leung, A. (2022) ‘A Multivariate Model for Electricity Demand using Facebook Prophet’, TowardsDataScience [Preprint].\n",
    "\n",
    "Nooruldeen, O. et al. (2023) ‘Strategies for predictive power: Machine learning models in city-scale load forecasting’, e-Prime - Advances in Electrical Engineering, Electronics and Energy, 6. Available at: https://doi.org/10.1016/j.prime.2023.100392.\n",
    "\n",
    "Porteiro, R., Hernández-Callejo, L. and Nesmachnow, S. (2022) ‘Electricity demand forecasting in industrial and residential facilities using ensemble machine learning’, Revista Facultad de Ingeniería, Universidad de Antioquia [Preprint]. Available at: https://doi.org/https://www.doi. org/10.17533/udea. redin.20200584.\n",
    "\n",
    "Vijendar Reddy, G. et al. (2023) ‘Electricity Consumption Prediction Using Machine Learning’, in E3S Web of Conferences. EDP Sciences. Available at: https://doi.org/10.1051/e3sconf/202339101048.\n",
    "\n",
    "Vu, D.H., Muttaqi, K.M. and Agalgaonkar, A.P. (2015) ‘A variance inflation factor and backward elimination based robust regression model for forecasting monthly electricity demand using climatic variables’, Applied Energy, 140, pp. 385–394. Available at: https://doi.org/10.1016/j.apenergy.2014.12.011.\n",
    " \n"
   ]
  },
  {
   "cell_type": "markdown",
   "metadata": {},
   "source": [
    "# Appendix\n",
    "## **Codes**\n",
    "Add your code snippets here."
   ]
  }
 ],
 "metadata": {
  "kernelspec": {
   "display_name": "Python 3",
   "language": "python",
   "name": "python3"
  },
  "language_info": {
   "codemirror_mode": {
    "name": "ipython",
    "version": 3
   },
   "file_extension": ".py",
   "mimetype": "text/x-python",
   "name": "python",
   "nbconvert_exporter": "python",
   "pygments_lexer": "ipython3",
   "version": "3.12.5"
  }
 },
 "nbformat": 4,
 "nbformat_minor": 5
}
